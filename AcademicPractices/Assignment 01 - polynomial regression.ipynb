{
 "cells": [
  {
   "cell_type": "code",
   "execution_count": 18,
   "id": "straight-check",
   "metadata": {},
   "outputs": [],
   "source": [
    "import numpy as np\n",
    "import matplotlib.pyplot as plt\n",
    "from sklearn.linear_model import LinearRegression\n",
    "from sklearn.preprocessing import PolynomialFeatures"
   ]
  },
  {
   "cell_type": "code",
   "execution_count": 24,
   "id": "english-houston",
   "metadata": {},
   "outputs": [],
   "source": [
    "x = np.array([5,6,7,8,9,10, 11, 12, 13, 14, 15]).reshape((-1, 1))\n",
    "y = np.array([15,16,7,2,9,18, 10, 12, 12, 10, 20])"
   ]
  },
  {
   "cell_type": "code",
   "execution_count": 25,
   "id": "fresh-drain",
   "metadata": {},
   "outputs": [
    {
     "name": "stdout",
     "output_type": "stream",
     "text": [
      "[[  5.  25.]\n",
      " [  6.  36.]\n",
      " [  7.  49.]\n",
      " [  8.  64.]\n",
      " [  9.  81.]\n",
      " [ 10. 100.]\n",
      " [ 11. 121.]\n",
      " [ 12. 144.]\n",
      " [ 13. 169.]\n",
      " [ 14. 196.]\n",
      " [ 15. 225.]]\n"
     ]
    }
   ],
   "source": [
    "transformer = PolynomialFeatures(degree=2, include_bias=False)\n",
    "transformer.fit(x)\n",
    "\n",
    "x_ = transformer.transform(x)\n",
    "x_ = PolynomialFeatures(degree=2, include_bias=False).fit_transform(x)\n",
    "print(x_)"
   ]
  },
  {
   "cell_type": "code",
   "execution_count": 26,
   "id": "dominican-track",
   "metadata": {},
   "outputs": [
    {
     "name": "stdout",
     "output_type": "stream",
     "text": [
      "coefficient of determination: 0.2716376720463908\n",
      "intercept: 32.35664335664339\n",
      "coefficients: [-4.95501166  0.26456876]\n"
     ]
    }
   ],
   "source": [
    "model = LinearRegression().fit(x_, y)\n",
    "r_sq = model.score(x_, y)\n",
    "\n",
    "print('coefficient of determination:', r_sq)\n",
    "print('intercept:', model.intercept_)\n",
    "print('coefficients:', model.coef_)"
   ]
  },
  {
   "cell_type": "code",
   "execution_count": 27,
   "id": "conservative-mongolia",
   "metadata": {},
   "outputs": [
    {
     "name": "stdout",
     "output_type": "stream",
     "text": [
      "predicted response:\n",
      "[14.1958042  12.15104895 10.63543124  9.64895105  9.19160839  9.26340326\n",
      "  9.86433566 10.99440559 12.65361305 14.84195804 17.55944056]\n"
     ]
    }
   ],
   "source": [
    "y_pred = model.predict(x_)\n",
    "print('predicted response:', y_pred, sep='\\n')"
   ]
  },
  {
   "cell_type": "code",
   "execution_count": 28,
   "id": "deluxe-aviation",
   "metadata": {},
   "outputs": [
    {
     "data": {
      "image/png": "[encoded data removed]",
      "text/plain": [
       "<Figure size 432x288 with 1 Axes>"
      ]
     },
     "metadata": {
      "needs_background": "light"
     },
     "output_type": "display_data"
    }
   ],
   "source": [
    "fig = plt.figure()\n",
    "fig.add_axes([0,0,1,1])\n",
    "plt.scatter(x,y,color='r')\n",
    "plt.plot(x,y_pred, color='b')\n",
    "plt.xlabel('X')\n",
    "plt.ylabel('Y')\n",
    "plt.title('Polynomial Regression')\n",
    "plt.show()"
   ]
  },
  {
   "cell_type": "code",
   "execution_count": null,
   "id": "prostate-contents",
   "metadata": {},
   "outputs": [],
   "source": []
  }
 ],
 "metadata": {
  "kernelspec": {
   "display_name": "Python 3",
   "language": "python",
   "name": "python3"
  },
  "language_info": {
   "codemirror_mode": {
    "name": "ipython",
    "version": 3
   },
   "file_extension": ".py",
   "mimetype": "text/x-python",
   "name": "python",
   "nbconvert_exporter": "python",
   "pygments_lexer": "ipython3",
   "version": "3.8.5"
  }
 },
 "nbformat": 4,
 "nbformat_minor": 5
}
