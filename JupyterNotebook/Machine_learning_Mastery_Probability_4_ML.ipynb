{
 "cells": [
  {
   "cell_type": "code",
   "execution_count": 3,
   "metadata": {},
   "outputs": [],
   "source": [
    "# The Frustration with Math Notation\n",
    "# Arithmetic Notation\n",
    "  ## simple arithmtic -- (+-*/)\n",
    "  ## Algebra\n",
    "  ## multiplecation notation\n",
    "  ## logarithms and e\n",
    "\n",
    "# Greek Alphabet\n",
    "# Sequence Notation\n",
    "  ## indexing\n",
    "  ## sequence operations (summation, multiplrcation)\n",
    "  \n",
    "# Set Notation\n",
    "  ## set of numbers\n",
    "  ## set membership\n",
    "\n",
    "# Other Notation\n",
    "\n",
    "## and also should learning about \n",
    "# linear algebra\n",
    "# statistics\n",
    "# probability\n",
    "# calculus"
   ]
  }
 ],
 "metadata": {
  "kernelspec": {
   "display_name": "Python 3",
   "language": "python",
   "name": "python3"
  },
  "language_info": {
   "codemirror_mode": {
    "name": "ipython",
    "version": 3
   },
   "file_extension": ".py",
   "mimetype": "text/x-python",
   "name": "python",
   "nbconvert_exporter": "python",
   "pygments_lexer": "ipython3",
   "version": "3.7.6"
  }
 },
 "nbformat": 4,
 "nbformat_minor": 4
}
