{
 "cells": [
  {
   "cell_type": "code",
   "execution_count": 15,
   "metadata": {},
   "outputs": [],
   "source": [
    "from pandas import set_option\n",
    "from pandas import read_csv"
   ]
  },
  {
   "cell_type": "code",
   "execution_count": 17,
   "metadata": {},
   "outputs": [
    {
     "name": "stdout",
     "output_type": "stream",
     "text": [
      "           preg     plas           pres           skin     test  mass                      pedi  \\\n",
      "0   Pregnancies  Glucose  BloodPressure  SkinThickness  Insulin   BMI  DiabetesPedigreeFunction   \n",
      "1             6      148             72             35        0  33.6                     0.627   \n",
      "2             1       85             66             29        0  26.6                     0.351   \n",
      "3             8      183             64              0        0  23.3                     0.672   \n",
      "4             1       89             66             23       94  28.1                     0.167   \n",
      "5             0      137             40             35      168  43.1                     2.288   \n",
      "6             5      116             74              0        0  25.6                     0.201   \n",
      "7             3       78             50             32       88    31                     0.248   \n",
      "8            10      115              0              0        0  35.3                     0.134   \n",
      "9             2      197             70             45      543  30.5                     0.158   \n",
      "10            8      125             96              0        0     0                     0.232   \n",
      "11            4      110             92              0        0  37.6                     0.191   \n",
      "12           10      168             74              0        0    38                     0.537   \n",
      "13           10      139             80              0        0  27.1                     1.441   \n",
      "14            1      189             60             23      846  30.1                     0.398   \n",
      "15            5      166             72             19      175  25.8                     0.587   \n",
      "16            7      100              0              0        0    30                     0.484   \n",
      "17            0      118             84             47      230  45.8                     0.551   \n",
      "18            7      107             74              0        0  29.6                     0.254   \n",
      "19            1      103             30             38       83  43.3                     0.183   \n",
      "\n",
      "    age    class  \n",
      "0   Age  Outcome  \n",
      "1    50        1  \n",
      "2    31        0  \n",
      "3    32        1  \n",
      "4    21        0  \n",
      "5    33        1  \n",
      "6    30        0  \n",
      "7    26        1  \n",
      "8    29        0  \n",
      "9    53        1  \n",
      "10   54        1  \n",
      "11   30        0  \n",
      "12   34        1  \n",
      "13   57        0  \n",
      "14   59        1  \n",
      "15   51        1  \n",
      "16   32        1  \n",
      "17   31        1  \n",
      "18   31        1  \n",
      "19   33        0  \n"
     ]
    }
   ],
   "source": [
    "# View first 20 rows\n",
    "\n",
    "names = ['preg', 'plas', 'pres', 'skin', 'test', 'mass', 'pedi', 'age', 'class'] \n",
    "data = read_csv('pima-indians-diabetes.data.csv', names = names)\n",
    "\n",
    "peek = data.head(20)\n",
    "print(peek)"
   ]
  },
  {
   "cell_type": "code",
   "execution_count": 18,
   "metadata": {},
   "outputs": [
    {
     "name": "stdout",
     "output_type": "stream",
     "text": [
      "(769, 9)\n"
     ]
    }
   ],
   "source": [
    "# Dimentions of data\n",
    "shape = data.shape\n",
    "print(shape)"
   ]
  },
  {
   "cell_type": "code",
   "execution_count": 19,
   "metadata": {},
   "outputs": [
    {
     "name": "stdout",
     "output_type": "stream",
     "text": [
      "preg     object\n",
      "plas     object\n",
      "pres     object\n",
      "skin     object\n",
      "test     object\n",
      "mass     object\n",
      "pedi     object\n",
      "age      object\n",
      "class    object\n",
      "dtype: object\n"
     ]
    }
   ],
   "source": [
    "# Data Types for Each Attribute\n",
    "types = data.dtypes\n",
    "print(types)"
   ]
  },
  {
   "cell_type": "code",
   "execution_count": 7,
   "metadata": {},
   "outputs": [],
   "source": [
    "### Discriptive Statistics"
   ]
  },
  {
   "cell_type": "code",
   "execution_count": 20,
   "metadata": {},
   "outputs": [
    {
     "name": "stdout",
     "output_type": "stream",
     "text": [
      "       preg plas pres skin test mass   pedi  age class\n",
      "count   769  769  769  769  769  769    769  769   769\n",
      "unique   18  137   48   52  187  249    518   53     3\n",
      "top       1  100   70    0    0   32  0.254   22     0\n",
      "freq    135   17   57  227  374   13      6   72   500\n"
     ]
    }
   ],
   "source": [
    "# Statistical summary\n",
    "\n",
    "set_option('display.width', 100)\n",
    "set_option('precision',3)\n",
    "description = data.describe()\n",
    "print(description)"
   ]
  },
  {
   "cell_type": "code",
   "execution_count": 21,
   "metadata": {},
   "outputs": [
    {
     "name": "stdout",
     "output_type": "stream",
     "text": [
      "class\n",
      "0          500\n",
      "1          268\n",
      "Outcome      1\n",
      "dtype: int64\n"
     ]
    }
   ],
   "source": [
    "# Class Distribution\n",
    "\n",
    "class_counts = data.groupby('class').size()\n",
    "print(class_counts)"
   ]
  },
  {
   "cell_type": "code",
   "execution_count": 22,
   "metadata": {},
   "outputs": [
    {
     "name": "stdout",
     "output_type": "stream",
     "text": [
      "Empty DataFrame\n",
      "Columns: []\n",
      "Index: []\n"
     ]
    }
   ],
   "source": [
    "# Pairwise Pearson correlations \n",
    "\n",
    "correlations = data.corr(method = 'pearson')\n",
    "print(correlations)"
   ]
  },
  {
   "cell_type": "code",
   "execution_count": 23,
   "metadata": {},
   "outputs": [
    {
     "name": "stdout",
     "output_type": "stream",
     "text": [
      "Series([], dtype: float64)\n"
     ]
    }
   ],
   "source": [
    "# Skew for each attribute\n",
    "\n",
    "skew = data.skew()\n",
    "print(skew)"
   ]
  },
  {
   "cell_type": "code",
   "execution_count": null,
   "metadata": {},
   "outputs": [],
   "source": []
  }
 ],
 "metadata": {
  "kernelspec": {
   "display_name": "Python 3",
   "language": "python",
   "name": "python3"
  },
  "language_info": {
   "codemirror_mode": {
    "name": "ipython",
    "version": 3
   },
   "file_extension": ".py",
   "mimetype": "text/x-python",
   "name": "python",
   "nbconvert_exporter": "python",
   "pygments_lexer": "ipython3",
   "version": "3.7.6"
  }
 },
 "nbformat": 4,
 "nbformat_minor": 4
}
