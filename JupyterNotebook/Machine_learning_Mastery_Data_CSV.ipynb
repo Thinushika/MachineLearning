{
 "cells": [
  {
   "cell_type": "code",
   "execution_count": 34,
   "metadata": {},
   "outputs": [
    {
     "name": "stdout",
     "output_type": "stream",
     "text": [
      "(769, 9)\n"
     ]
    }
   ],
   "source": [
    "#load CSV files with the Python Standerd Library\n",
    "\n",
    "import csv\n",
    "import numpy\n",
    "\n",
    "with open('pima-indians-diabetes.data.csv') as csv_file:\n",
    "    csv_reader = csv.reader(csv_file, delimiter = ',', quoting=csv.QUOTE_NONE)\n",
    "    x = list(csv_reader)\n",
    "    data = numpy.array(x)\n",
    "    print(data.shape)"
   ]
  },
  {
   "cell_type": "code",
   "execution_count": 42,
   "metadata": {},
   "outputs": [
    {
     "name": "stdout",
     "output_type": "stream",
     "text": [
      "(769, 9)\n"
     ]
    }
   ],
   "source": [
    "# Load CSV files with NumPy\n",
    "\n",
    "from numpy import loadtxt\n",
    "\n",
    "with open('pima-indians-diabetes.data.csv') as filename:\n",
    "    raw_data = loadtxt(raw_data, delimiter = \",\")\n",
    "    print(data.shape)"
   ]
  },
  {
   "cell_type": "code",
   "execution_count": 44,
   "metadata": {},
   "outputs": [
    {
     "name": "stdout",
     "output_type": "stream",
     "text": [
      "(769, 9)\n"
     ]
    }
   ],
   "source": [
    "# Load CSV files with Pandas\n",
    "\n",
    "from pandas import read_csv\n",
    "\n",
    "names = ['preg', 'plas', 'pres', 'skin', 'test', 'mass', 'pedi', 'age', 'class'] \n",
    "data = read_csv('pima-indians-diabetes.data.csv',names = names)\n",
    "print(data.shape)"
   ]
  },
  {
   "cell_type": "code",
   "execution_count": null,
   "metadata": {},
   "outputs": [],
   "source": []
  }
 ],
 "metadata": {
  "kernelspec": {
   "display_name": "Python 3",
   "language": "python",
   "name": "python3"
  },
  "language_info": {
   "codemirror_mode": {
    "name": "ipython",
    "version": 3
   },
   "file_extension": ".py",
   "mimetype": "text/x-python",
   "name": "python",
   "nbconvert_exporter": "python",
   "pygments_lexer": "ipython3",
   "version": "3.7.6"
  }
 },
 "nbformat": 4,
 "nbformat_minor": 4
}
